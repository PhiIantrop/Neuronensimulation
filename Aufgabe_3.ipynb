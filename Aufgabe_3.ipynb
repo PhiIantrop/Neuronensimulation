{
 "cells": [
  {
   "cell_type": "code",
   "execution_count": 38,
   "metadata": {},
   "outputs": [],
   "source": [
    "import nbimporter\n",
    "\n",
    "from Aufgabe_2 import HHSimulationOdeint, HHModel, HHParameters\n"
   ]
  },
  {
   "cell_type": "code",
   "execution_count": 39,
   "metadata": {},
   "outputs": [],
   "source": [
    "params = HHParameters()\n",
    "hh_model = HHModel(params)"
   ]
  },
  {
   "cell_type": "markdown",
   "metadata": {},
   "source": []
  },
  {
   "cell_type": "code",
   "execution_count": 40,
   "metadata": {},
   "outputs": [],
   "source": [
    "# list of all possible inputs:\n",
    "input_list = [[1, 1, 0, 0], [1, 0, 1, 0], [1, 0, 0, 1], [0, 1, 1, 0], [0, 1, 0, 1], [0, 0, 1, 1]]\n",
    "\n",
    "# the correct results for \"Is 14 diagonal black\" as a task\n",
    "correct_output_list = [False, False, True, False, False, False]\n"
   ]
  },
  {
   "cell_type": "markdown",
   "metadata": {},
   "source": [
    "We create a NN with 4 input neurons and 1 output neuron"
   ]
  },
  {
   "cell_type": "code",
   "execution_count": 52,
   "metadata": {},
   "outputs": [
    {
     "ename": "TypeError",
     "evalue": "__init__() should return None, not 'list'",
     "output_type": "error",
     "traceback": [
      "\u001b[1;31m---------------------------------------------------------------------------\u001b[0m",
      "\u001b[1;31mTypeError\u001b[0m                                 Traceback (most recent call last)",
      "Cell \u001b[1;32mIn[52], line 36\u001b[0m\n\u001b[0;32m     33\u001b[0m good_weights \u001b[38;5;241m=\u001b[39m [\u001b[38;5;241m0.5\u001b[39m, \u001b[38;5;241m0\u001b[39m, \u001b[38;5;241m0\u001b[39m, \u001b[38;5;241m0.5\u001b[39m]\n\u001b[0;32m     35\u001b[0m \u001b[38;5;66;03m# stupid NN with all weights equal to 1, results in True always\u001b[39;00m\n\u001b[1;32m---> 36\u001b[0m results_ones \u001b[38;5;241m=\u001b[39m \u001b[43mNN_5_Neurons\u001b[49m\u001b[43m(\u001b[49m\u001b[43m[\u001b[49m\u001b[38;5;241;43m1\u001b[39;49m\u001b[43m,\u001b[49m\u001b[43m \u001b[49m\u001b[38;5;241;43m1\u001b[39;49m\u001b[43m,\u001b[49m\u001b[43m \u001b[49m\u001b[38;5;241;43m1\u001b[39;49m\u001b[43m,\u001b[49m\u001b[43m \u001b[49m\u001b[38;5;241;43m1\u001b[39;49m\u001b[43m]\u001b[49m\u001b[43m)\u001b[49m\n\u001b[0;32m     38\u001b[0m \u001b[38;5;28mprint\u001b[39m(\u001b[38;5;124mf\u001b[39m\u001b[38;5;124m\"\u001b[39m\u001b[38;5;124moutput of the nn_ones: \u001b[39m\u001b[38;5;130;01m\\n\u001b[39;00m\u001b[38;5;132;01m{\u001b[39;00mresults_ones\u001b[38;5;132;01m}\u001b[39;00m\u001b[38;5;124m \u001b[39m\u001b[38;5;130;01m\\n\u001b[39;00m\u001b[38;5;124mcorrect output: \u001b[39m\u001b[38;5;130;01m\\n\u001b[39;00m\u001b[38;5;132;01m{\u001b[39;00mcorrect_output_list\u001b[38;5;132;01m}\u001b[39;00m\u001b[38;5;124m\"\u001b[39m)\n\u001b[0;32m     41\u001b[0m nn_good \u001b[38;5;241m=\u001b[39m NN_5_Neurons(good_weights)\n",
      "\u001b[1;31mTypeError\u001b[0m: __init__() should return None, not 'list'"
     ]
    }
   ],
   "source": [
    "import numpy as np\n",
    "\n",
    "class NN_5_Neurons:\n",
    "\n",
    "    # weights is a vector of length 4\n",
    "    def __init__(self, weights):\n",
    "        if(min(weights) < 0):\n",
    "            raise Exception(\"weights must be non-negative\")\n",
    "        self.weights = np.array(weights)\n",
    "\n",
    "    @staticmethod\n",
    "    def getInputCurrent(weightedSum):\n",
    "        def I_ext(t):\n",
    "            return 10 * weightedSum if t < 1 else 0\n",
    "\n",
    "        return I_ext\n",
    "\n",
    "    def getWeightedSum(self, inputs):\n",
    "        return sum(inputs * self.weights)\n",
    "\n",
    "    # inputs is a vector with length 4 and values of 0 or 1\n",
    "    def is14DiagonalBlack(self, inputs):\n",
    "        weightedSum = self.getWeightedSum(inputs)\n",
    "        I_ext = self.getInputCurrent(weightedSum)\n",
    "\n",
    "        _, U, _, _, _ = HHSimulationOdeint(hh_model, time=10, dt=0.01, I_ext=I_ext).run()\n",
    "\n",
    "        return max(U) > 0\n",
    "\n",
    "# good weights to recognize the input [1, 0, 0, 1] (black diagonal on a 2x2 board)\n",
    "good_weights = [0.5, 0, 0, 0.5]\n",
    "\n",
    "# stupid NN with all weights equal to 1, results in True always\n",
    "nn_ones = NN_5_Neurons([1, 1, 1, 1])\n",
    "results_ones = [nn_ones.is14DiagonalBlack(input) for input in input_list]\n",
    "\n",
    "print(f\"output of the nn_ones: \\n{results_ones} \\ncorrect output: \\n{correct_output_list}\")\n",
    "\n",
    "\n",
    "nn_good = NN_5_Neurons(good_weights)\n",
    "results = [nn_good.is14DiagonalBlack(input) for input in input_list]\n",
    "\n",
    "print(\"Stimmt das Ergebnis bei guten Weights immer? \", results == correct_output_list)\n"
   ]
  },
  {
   "cell_type": "code",
   "execution_count": null,
   "metadata": {},
   "outputs": [],
   "source": []
  }
 ],
 "metadata": {
  "kernelspec": {
   "display_name": ".venv",
   "language": "python",
   "name": "python3"
  },
  "language_info": {
   "codemirror_mode": {
    "name": "ipython",
    "version": 3
   },
   "file_extension": ".py",
   "mimetype": "text/x-python",
   "name": "python",
   "nbconvert_exporter": "python",
   "pygments_lexer": "ipython3",
   "version": "3.10.2"
  }
 },
 "nbformat": 4,
 "nbformat_minor": 2
}
