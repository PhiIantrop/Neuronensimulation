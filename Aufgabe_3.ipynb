{
 "cells": [
  {
   "cell_type": "code",
   "execution_count": 2,
   "metadata": {},
   "outputs": [],
   "source": [
    "import nbimporter\n",
    "\n",
    "from Aufgabe_2 import HHSimulationOdeint, HHModel, HHParameters\n"
   ]
  },
  {
   "cell_type": "code",
   "execution_count": 3,
   "metadata": {},
   "outputs": [],
   "source": [
    "params = HHParameters()\n",
    "hh_model = HHModel(params)"
   ]
  },
  {
   "cell_type": "markdown",
   "metadata": {},
   "source": []
  },
  {
   "cell_type": "code",
   "execution_count": 6,
   "metadata": {},
   "outputs": [],
   "source": [
    "# list of all possible inputs:\n",
    "input_list = [[1, 1, 0, 0], [1, 0, 1, 0], [1, 0, 0, 1], [0, 1, 1, 0], [0, 1, 0, 1], [0, 0, 1, 1]]\n",
    "\n",
    "# the correct results for \"Is 14 diagonal black\" as a task\n",
    "correct_output_list = [input == [1, 0, 0, 1] for input in input_list]"
   ]
  },
  {
   "cell_type": "markdown",
   "metadata": {},
   "source": [
    "We create a NN with 4 input neurons and 1 output neuron"
   ]
  },
  {
   "cell_type": "code",
   "execution_count": 5,
   "metadata": {},
   "outputs": [
    {
     "name": "stdout",
     "output_type": "stream",
     "text": [
      "output of the nn_ones: \n",
      "[True, True, True, True, True, True] \n",
      "correct output: \n",
      "[False, False, True, False, False, False]\n",
      "Stimmt das Ergebnis bei guten Weights immer?  True\n"
     ]
    }
   ],
   "source": [
    "import numpy as np\n",
    "\n",
    "class NN_5_Neurons:\n",
    "\n",
    "    # weights is a vector of length 4\n",
    "    def __init__(self, weights):\n",
    "        if(min(weights) < 0):\n",
    "            raise Exception(\"weights must be non-negative\")\n",
    "        self.weights = np.array(weights)\n",
    "\n",
    "    @staticmethod\n",
    "    def getInputCurrent(weightedSum):\n",
    "        def I_ext(t):\n",
    "            return 10 * weightedSum if t < 1 else 0\n",
    "\n",
    "        return I_ext\n",
    "\n",
    "    def getWeightedSum(self, inputs):\n",
    "        return sum(inputs * self.weights)\n",
    "\n",
    "    # inputs is a vector with length 4 and values of 0 or 1\n",
    "    def is14DiagonalBlack(self, inputs):\n",
    "        weightedSum = self.getWeightedSum(inputs)\n",
    "        I_ext = self.getInputCurrent(weightedSum)\n",
    "\n",
    "        _, U, _, _, _ = HHSimulationOdeint(hh_model, time=10, dt=0.01, I_ext=I_ext).run()\n",
    "\n",
    "        return max(U) > 0\n",
    "\n",
    "# good weights to recognize the input [1, 0, 0, 1] (black diagonal on a 2x2 board)\n",
    "good_weights = [0.5, 0, 0, 0.5]\n",
    "\n",
    "# stupid NN with all weights equal to 1, results in True always\n",
    "nn_ones = NN_5_Neurons([1, 1, 1, 1])\n",
    "results_ones = [nn_ones.is14DiagonalBlack(input) for input in input_list]\n",
    "\n",
    "print(f\"output of the nn_ones: \\n{results_ones} \\ncorrect output: \\n{correct_output_list}\")\n",
    "\n",
    "\n",
    "nn_good = NN_5_Neurons(good_weights)\n",
    "results_good = [nn_good.is14DiagonalBlack(input) for input in input_list]\n",
    "\n",
    "print(\"Stimmt das Ergebnis bei guten Weights immer? \", results_good == correct_output_list)\n"
   ]
  },
  {
   "cell_type": "code",
   "execution_count": null,
   "metadata": {},
   "outputs": [],
   "source": []
  }
 ],
 "metadata": {
  "kernelspec": {
   "display_name": ".venv",
   "language": "python",
   "name": "python3"
  },
  "language_info": {
   "codemirror_mode": {
    "name": "ipython",
    "version": 3
   },
   "file_extension": ".py",
   "mimetype": "text/x-python",
   "name": "python",
   "nbconvert_exporter": "python",
   "pygments_lexer": "ipython3",
   "version": "3.10.2"
  }
 },
 "nbformat": 4,
 "nbformat_minor": 2
}
