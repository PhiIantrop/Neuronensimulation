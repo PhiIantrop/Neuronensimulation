{
  "metadata": {
    "kernelspec": {
      "name": "python",
      "display_name": "Python (Pyodide)",
      "language": "python"
    },
    "language_info": {
      "codemirror_mode": {
        "name": "python",
        "version": 3
      },
      "file_extension": ".py",
      "mimetype": "text/x-python",
      "name": "python",
      "nbconvert_exporter": "python",
      "pygments_lexer": "ipython3",
      "version": "3.8"
    }
  },
  "nbformat_minor": 4,
  "nbformat": 4,
  "cells": [
    {
      "cell_type": "markdown",
      "source": "Im folgenden soll das Hodgkin-Huxley-Modell implementiert werden. Das einfache Modell zur Simulation Neuronaler Netze beruht auf einem System gekoppelter Differentialgleichungen, die numerisch mit verschiedenen Methoden gelöst werden sollen. \n\nHierzu sollen zu Beginn die Gleichungen (11)-(13) aus den Gleichungen (8)-(10) hergeleitet werden:\n\n\n\\begin{align}\n\\frac{dn}{dt} &= \\alpha_n(U) (1 - n) - \\beta_n(U) n \\tag{8} \\\\\n\\frac{dm}{dt} &= \\alpha_m(U) (1 - m) - \\beta_m(U) m \\tag{9} \\\\\n\\frac{dh}{dt} &= \\alpha_h(U) (1 - h) - \\beta_h(U) h \\tag{10}\n\\end{align}\n\nFür die stationären Werte $$ n_{\\infty} ,  m_{\\infty} , h_{\\infty} $$gilt, dass sich die Gate-Variablen nicht mehr ändern, d.h., $$ \\frac{dn}{dt} = 0, \\frac{dm}{dt} = 0, \\frac{dh}{dt} = 0 $$ Diese Bedingungen werden die Gleichungen (8)-(10) eingesetzt:\n\\begin{align}\n0 &= \\alpha_n(U) (1 - n_{\\infty}) - \\beta_n(U) n_{\\infty} \\\\\n0 &= \\alpha_m(U) (1 - m_{\\infty}) - \\beta_m(U) m_{\\infty} \\\\\n0 &= \\alpha_h(U) (1 - h_{\\infty}) - \\beta_h(U) h_{\\infty}\n\\end{align}\n\nEs folgt umstellen, um $$ n_{\\infty} ,  m_{\\infty} ,  h_{\\infty} $$ auszudrücken:\n\\begin{align}\nn_{\\infty} &= \\frac{\\alpha_n(U)}{\\alpha_n(U) + \\beta_n(U)} \\\\\nm_{\\infty} &= \\frac{\\alpha_m(U)}{\\alpha_m(U) + \\beta_m(U)} \\\\\nh_{\\infty} &= \\frac{\\alpha_h(U)}{\\alpha_h(U) + \\beta_h(U)}\n\\end{align}\n\nDie Zeitkonstanten $$ \\tau_n ,  \\tau_m ,  \\tau_h $$ sind definiert als:\n\\begin{align}\n\\tau_n &= \\frac{1}{\\alpha_n(U) + \\beta_n(U)} \\\\\n\\tau_m &= \\frac{1}{\\alpha_m(U) + \\beta_m(U)} \\\\\n\\tau_h &= \\frac{1}{\\alpha_h(U) + \\beta_h(U)}\n\\end{align}\n\nJetzt setzen wir die Zeitkonstanten in die Gleichungen (8)-(10) ein, um die Form (11)-(13) zu erhalten:\n\n\\begin{align*}\n\\frac{dn}{dt} &= \\alpha_n(U) (1 - n) - \\beta_n(U) n \\\\\n&= \\alpha_n(U) - \\alpha_n(U) n - \\beta_n(U) n \\\\\n&= \\alpha_n(U) - (\\alpha_n(U) + \\beta_n(U)) n \\\\\n&= (\\alpha_n(U) + \\beta_n(U)) \\left( \\frac{\\alpha_n(U)}{\\alpha_n(U) + \\beta_n(U)} - n \\right) \\\\\n&= \\frac{1}{\\tau_n} (n_{\\infty} - n)\n\\end{align*}\n\\begin{align*}\n\\frac{dm}{dt} &= \\alpha_m(U) (1 - m) - \\beta_m(U) m \\\\\n&= \\alpha_m(U) - \\alpha_m(U) m - \\beta_m(U) m \\\\\n&= \\alpha_m(U) - (\\alpha_m(U) + \\beta_m(U)) m \\\\\n&= (\\alpha_m(U) + \\beta_m(U)) \\left( \\frac{\\alpha_m(U)}{\\alpha_m(U) + \\beta_m(U)} - m \\right) \\\\\n&= \\frac{1}{\\tau_m} (m_{\\infty} - m)\n\\end{align*}\n\\begin{align*}\n\\frac{dh}{dt} &= \\alpha_h(U) (1 - h) - \\beta_h(U) h \\\\\n&= \\alpha_h(U) - \\alpha_h(U) h - \\beta_h(U) h \\\\\n&= \\alpha_h(U) - (\\alpha_h(U) + \\beta_h(U)) h \\\\\n&= (\\alpha_h(U) + \\beta_h(U)) \\left( \\frac{\\alpha_h(U)}{\\alpha_h(U) + \\beta_h(U)} - h \\right) \\\\\n&= \\frac{1}{\\tau_h} (h_{\\infty} - h)\n\\end{align*}\n\nDamit wurde gezeigt, dass die Gleichungen (11) - (13) aus den Gleichungen (8) - (10) folgen.\n\nUm die Hodgkin-Huxley Gleichungen über einen Zeitraum von 50 ms mit verschiedenen Verfahren zu berechnen müssen die gegebenen Parameter in der Klasse HHParameters implementiert werden:\n",
      "metadata": {}
    },
    {
      "cell_type": "code",
      "source": "# Die gegebenen Konstanten werden in einer Klasse implementiert\n\nclass HHParameters:\n    def __init__(self):\n        self.C_m = 1.0     # Membran Kapazität, in uF/cm^2\n        self.g_Na = 120.0  # Maximale Leitfähigkeit Natrium, in mS/cm^2\n        self.g_K = 36.0 # Maximale Leitfähigkeit Kalium, in mS/cm^2\n        self.g_L = 0.3 # Maximale Leitfähigkeit Leck, in mS/cm^2\n        self.U_Na = 50.0   # Spannung Natrium, in mV\n        self.U_K = -77.0 # Spannung Kalium, in mV\n        self.U_L = -54.387 # Spannung Leck, in mV\n        self.U_pot = -65.0 # äußeres Potenzial, dient als Startwert für die Spannungsvariable beim Lösen\n\nparams = HHParameters()",
      "metadata": {
        "ExecuteTime": {
          "end_time": "2024-07-29T08:55:49.095225Z",
          "start_time": "2024-07-29T08:55:49.089686Z"
        },
        "trusted": true
      },
      "outputs": [],
      "execution_count": null
    },
    {
      "cell_type": "markdown",
      "source": "Die Funktionen für alpha und beta werden zur Berechnung der Gating Variablen initialisiert: ",
      "metadata": {}
    },
    {
      "cell_type": "code",
      "source": "\nimport numpy as np\nimport matplotlib.pyplot as plt\n\nclass HHGatingVariables:\n    @staticmethod\n    def alpha_n(U):\n        return -0.01 * (55 + U) / (np.exp(-(55 + U) / 10) - 1)\n    \n    @staticmethod\n    def beta_n(U):\n        return 0.125 * np.exp(-(65 + U) / 80)\n    \n    @staticmethod\n    def alpha_m(U):\n        return -0.1 * (40 + U) / (np.exp(-(40 + U) / 10) - 1)\n    \n    @staticmethod\n    def beta_m(U):\n        return 4.0 * np.exp(-(65 + U) / 18)\n    \n    @staticmethod\n    def alpha_h(U):\n        return 0.07 * np.exp(-(65 + U) / 20)\n    \n    @staticmethod\n    def beta_h(U):\n        return 1 / (np.exp(-(35 + U) / 10) + 1)",
      "metadata": {
        "jupyter": {
          "is_executing": true
        },
        "trusted": true
      },
      "outputs": [],
      "execution_count": null
    },
    {
      "cell_type": "markdown",
      "source": "Die folgende Klasse enthält nun das Hodgkin-Huxley-Modell. Dabei wird auf die zuvor erstellten Klassen zurück gegriffen. Als Startparameter für die Spannung werden -65 mV gewählt, da dies die Spannung für ein geschlossene Membran darstellt. Als Startparameter für n, m und h wählen wir deren Gleichgewichtswerte, die aus der Herleitung zu Beginn berechnet werden können. ",
      "metadata": {}
    },
    {
      "cell_type": "code",
      "source": "# contains n, m, h and U initial values and the math to compute the derivatives\nclass HHModel:\n    def __init__(self, parameters):\n        self.params = parameters\n        self.U = self.params.U_pot  # initial membrane potential\n\n        # we start with the gating variables in their equilibrium state:\n        self.n = self._n_inf(self.U) \n        self.m = self._m_inf(self.U)\n        self.h = self._h_inf(self.U)\n\n    @staticmethod\n    def _n_inf(U):\n        return HHGatingVariables.alpha_n(U) / (HHGatingVariables.alpha_n(U) + HHGatingVariables.beta_n(U))\n    \n    @staticmethod\n    def _m_inf(U):\n        return HHGatingVariables.alpha_m(U) / (HHGatingVariables.alpha_m(U) + HHGatingVariables.beta_m(U))\n    \n    @staticmethod\n    def _h_inf(U):\n        return HHGatingVariables.alpha_h(U) / (HHGatingVariables.alpha_h(U) + HHGatingVariables.beta_h(U))\n\n    def compute_derivatives(self, U, n, m, h, I_ext):\n        dn = HHGatingVariables.alpha_n(U) * (1 - n) - HHGatingVariables.beta_n(U) * n\n        dm = HHGatingVariables.alpha_m(U) * (1 - m) - HHGatingVariables.beta_m(U) * m\n        dh = HHGatingVariables.alpha_h(U) * (1 - h) - HHGatingVariables.beta_h(U) * h\n        \n        I_Na = self.params.g_Na * m**3 * h * (U - self.params.U_Na)\n        I_K = self.params.g_K * n**4 * (U - self.params.U_K)\n        I_L = self.params.g_L * (U - self.params.U_L)\n        \n        dU = (I_ext - I_Na - I_K - I_L) / self.params.C_m\n        \n        return np.array([dU, dn, dm, dh])\n    \nhh_model = HHModel(params)\n",
      "metadata": {
        "trusted": true
      },
      "outputs": [],
      "execution_count": null
    },
    {
      "cell_type": "markdown",
      "source": "Als kurzer Zwischenschritt werden nun zur Bestimmung sinnvoller Anfangswerte die Gating Variablen n, m und h bei verschiedenen Spannungen U zwischen -100 mV und 100 mV  geplottet. Da den äußeres Potential von -65 mV eine geschlossenen Membran bedeutet, liegen hier die von uns verwendeten Anfangswerte.",
      "metadata": {}
    },
    {
      "cell_type": "code",
      "source": "# plots the equilibrium curves of the gating variables against the membrane potential\n\n# Spannungsbereich\nU_range = np.linspace(-100, 100, 500)\n\n# Berechnung der stationären Zustände\nn_inf = HHModel._n_inf(U_range)\nm_inf = HHModel._m_inf(U_range)\nh_inf = HHModel._h_inf(U_range)\n\nn_start = HHModel._n_inf(-65)\nm_start = HHModel._m_inf(-65)\nh_start = HHModel._h_inf(-65)\n\n# Plotten der stationären Zustände der Gate-Variablen gegen Spannung\nplt.figure(figsize=(10, 6))\nplt.plot(U_range, m_inf, label=\"m_inf (Na Activation)\")\nplt.plot(U_range, h_inf, label=\"h_inf (Na Inactivation)\")\nplt.plot(U_range, n_inf, label=\"n_inf (K Activation)\")\n\nplt.axvline(hh_model.params.U_pot, color='r', linestyle='--', label=f\"V_pot = {hh_model.params.U_pot} mV\")\n\nplt.xlabel(\"Membranpotential (mV)\")\nplt.ylabel(\"Gate-Variablen\")\nplt.title(\"Stationäre Zustände der Gate-Variablen der Hodgkin-Huxley-Gleichungen\")\nplt.legend()\nplt.grid(True)\nplt.show()\n\nprint(f\"Bei -65 mV ist der Wert von n_inf = {n_start}\")\nprint(f\"Bei -65 mV ist der Wert von m_inf = {m_start}\")\nprint(f\"Bei -65 mV ist der Wert von h_inf = {h_start}\")",
      "metadata": {
        "jupyter": {
          "is_executing": true
        },
        "trusted": true
      },
      "outputs": [],
      "execution_count": null
    },
    {
      "cell_type": "markdown",
      "source": "Sinnvolle Anfangszustände sind also zum Beispiel gegeben durch die Gleichgewichtszustände bei $$U = V_{pot} = -65 mV$$\nund somit für n = 0.318, m = 0.053 und h = 0.596\n\n\n",
      "metadata": {}
    },
    {
      "cell_type": "markdown",
      "source": "Nun soll die Implementation des HH-Models weiter gehen. \nDer externe Strom soll als konstante von 5 nA gewählt werden:",
      "metadata": {}
    },
    {
      "cell_type": "code",
      "source": "# returns the external current for the simulated neuron in nA\ndef I_ext(t):\n    return 5\n",
      "metadata": {
        "trusted": true
      },
      "outputs": [],
      "execution_count": null
    },
    {
      "cell_type": "markdown",
      "source": "???? ",
      "metadata": {}
    },
    {
      "cell_type": "code",
      "source": "# abstract class for our 3 simulation classes: \nclass HHSimulation:\n    def __init__(self, hh_model, time, dt, I_ext: callable):\n        self.hh_model = hh_model\n        self.time = time\n        self.dt = dt\n        self.I_ext = I_ext \n        self.t_values = np.arange(0, time, dt)\n        self.U_values = np.zeros(len(self.t_values))\n        self.n_values = np.zeros(len(self.t_values))\n        self.m_values = np.zeros(len(self.t_values))\n        self.h_values = np.zeros(len(self.t_values))\n\n    # abstract method that will be implemented by the subclasses\n    def run(self):\n        raise NotImplementedError(\"subclass has to implement this method\")\n\n    def plot(self):\n        # Plot der zeitlichen Entwicklung des Membranpotentials und der Gate-Variablen\n        plt.figure(figsize=(12, 8))\n\n        # Membranpotential\n        plt.subplot(2, 1, 1)\n        plt.plot(self.t_values, self.U_values, label=\"Membranpotential (U)\")\n        plt.ylabel(\"Membranpotential (mV)\")\n        plt.legend()\n\n        # Gate-Variablen\n        plt.subplot(2, 1, 2)\n        plt.plot(self.t_values, self.n_values, label=\"n\")\n        plt.plot(self.t_values, self.m_values, label=\"m\")\n        plt.plot(self.t_values, self.h_values, label=\"h\")\n        plt.xlabel(\"Zeit (ms)\")\n        plt.ylabel(\"Gate-Variablen\")\n        plt.legend()\n\n        plt.show()",
      "metadata": {
        "trusted": true
      },
      "outputs": [],
      "execution_count": null
    },
    {
      "cell_type": "markdown",
      "source": "Jetzt kann mit der ersten Simulation des HH-Models begonnen werden. Wir beginnen mit der Implementation des Euler Verfahrens und greifen dafür auf die in der Klasse HHModel implementierten Methoden und Parameter zurück. Die errechneten Werte für das Membranpotential und die Gating Variablen n, m und h werden mit Schrittweite dt = 0.01 s in Listen zwischengespeichert und anschließend geplottet.",
      "metadata": {}
    },
    {
      "cell_type": "code",
      "source": "class HHSimulationEuler(HHSimulation):\n    def run(self):\n        U = self.hh_model.U\n        n = self.hh_model.n\n        m = self.hh_model.m\n        h = self.hh_model.h\n\n        for i, t in enumerate(self.t_values):\n            self.U_values[i] = U\n            self.n_values[i] = n\n            self.m_values[i] = m\n            self.h_values[i] = h\n\n            y = [U,n,m,h]\n            I_ext = self.I_ext(t)\n\n            dy = self.hh_model.compute_derivatives(*y, I_ext)\n\n            U, n, m, h = y + dy * self.dt\n\n        return self.t_values, self.U_values, self.n_values, self.m_values, self.h_values \n\neuler_sim = HHSimulationEuler(hh_model, time=50, dt=0.01, I_ext=I_ext)\neuler_sim.run()\neuler_sim.plot()",
      "metadata": {
        "trusted": true
      },
      "outputs": [],
      "execution_count": null
    },
    {
      "cell_type": "markdown",
      "source": "Wir starten wie oben erwähnt mit einem Membranpotenzial von -65 mV. Dies gilt als Potenzial für eine geschloßene Membran.\nDer Plot macht die Terminologie der Variablen m und h deutlich:\n- m gilt als Aktivierungsenergie. Zu Beginn (U = -65 mV) ist m(t=0) nahe 0. Daraus folgt, dass der Strom im Natriumkanal $$ I_{Na} = g_{Na} * m^{3} * h *(U - U_{Na}) \\approx 0 $$\nWenn das Membranpotenzial deutlich über das Ruhepotenzial ansteigt, erhöht sich die Gating-Variable m auf ihren neuen Wert m(u). Solange sich h nur leicht ändert, steigt der Natriumstrom und das Gate öffnet sich. Die Variable m „aktiviert“ also den Kanal. Wenn m nach einer Rückkehr der Spannung in den Ruhezustand wieder auf Null abfällt, spricht man von einer „Deaktivierung“.\n\n- die Inaktivierungsvariable h hat zu Beginn einen hohen Wert von ungefähr 0,6.\n Sobald die Spannung einen Wert über 40 mV erreicht, nähert sich h einem Wert nahe 0 an. Daher \"inaktiviert\" der Natriumkanal bis die Spannung kurz über das Ruhepotenzial von -65 mV schießt und sich dann langsam wieder auf dem Wert einpendelt.\n\n- die Variable n für die Aktivierung der Kaliumkanäle scheint antiproporional zur Inaktivierungsvaribalen h des Natrium zu verlaufen",
      "metadata": {}
    },
    {
      "cell_type": "markdown",
      "source": "2b.) Als alternative Methode zum Lösen der HH-Gleichungen wird das Runge Kutta Verfahren implementiert. Auch hierfür greifen wir wieder auf die Parameter und Methoden der Klasse HHModel zurück:",
      "metadata": {}
    },
    {
      "cell_type": "code",
      "source": "# runs a simulation using the classical Runge-Kutta method to solve the ODE\nclass HHSimulationClassicalRungeKutta(HHSimulation):\n\n    def run(self):\n        U = self.hh_model.U\n        n = self.hh_model.n\n        m = self.hh_model.m\n        h = self.hh_model.h\n\n        for i, t in enumerate(self.t_values):\n            self.U_values[i] = U\n            self.n_values[i] = n\n            self.m_values[i] = m\n            self.h_values[i] = h\n\n            y = [U,n,m,h]\n            I_ext = self.I_ext(t)\n\n            k1 = self.hh_model.compute_derivatives(*y, I_ext)\n            k2 = self.hh_model.compute_derivatives(*(y + k1*self.dt/2), I_ext)\n            k3 = self.hh_model.compute_derivatives(*(y + k2*self.dt/2), I_ext)\n            k4 = self.hh_model.compute_derivatives(*(y + k3*self.dt), I_ext)\n\n            U, n, m, h = y + (k1 + 2*k2 + 2*k3 + k4)*self.dt/6\n\n        return self.t_values, self.U_values, self.n_values, self.m_values, self.h_values\n\nrk_sim = HHSimulationClassicalRungeKutta(hh_model, time=50, dt=0.01, I_ext=I_ext)\nrk_sim.run()\nrk_sim.plot()",
      "metadata": {
        "trusted": true
      },
      "outputs": [],
      "execution_count": null
    },
    {
      "cell_type": "markdown",
      "source": "Hier merkt man schon beim Ausführen sofort, dass die Methode mit dem Eulerverfahren deutlich schneller geht, was allerdings auch nicht verwunderlich ist, da für das Euler-Verfahren nur eine Ableitung bestimmt werden muss. Ein Vergleich der Genauigkeiten der beiden Methoden folgt. Hierfür wird auf die Methode odeint aus dem Scipy Package für Python zurückgegriffen, die Gewöhnliche Differential Gleichnungen schnell und genau lösen soll.",
      "metadata": {}
    },
    {
      "cell_type": "code",
      "source": "from scipy.integrate import odeint\n\n# runs a simulation using the odeint method to solve the ODE\nclass HHSimulationOdeint(HHSimulation):\n\n    def run(self):\n        y0 = [self.hh_model.U, self.hh_model.n, self.hh_model.m, self.hh_model.h]\n        y_list = odeint(self.compute_derivatives_wrapper, y0, self.t_values)\n\n        self.U_values = y_list[:, 0]\n        self.n_values = y_list[:, 1]\n        self.m_values = y_list[:, 2]\n        self.h_values = y_list[:, 3]\n        \n        return self.t_values, self.U_values, self.n_values, self.m_values, self.h_values\n\n    # wrapper to match odeint´s required call signature, because compute_derivatives does not need t as input\n    def compute_derivatives_wrapper(self, y, t):\n        return self.hh_model.compute_derivatives(*y, self.I_ext(t))\n\nodeint_sim = HHSimulationOdeint(hh_model, time=50, dt=0.01, I_ext=I_ext)\nodeint_sim.run()\nodeint_sim.plot()",
      "metadata": {
        "trusted": true
      },
      "outputs": [],
      "execution_count": null
    },
    {
      "cell_type": "markdown",
      "source": "Ein kurzer Vergleich der Zeit zum Berechnen der Methoden zeigt:",
      "metadata": {}
    },
    {
      "cell_type": "code",
      "source": "# comparing the time efficiency of the 3 different methods: \nimport time\n\ndef time_func(func, *args):\n    start = time.perf_counter()\n    func(*args)\n    end = time.perf_counter ()\n    return end - start\n\ndt = 0.01\n\ntime_euler = time_func(HHSimulationEuler(hh_model, time_period, dt, I_ext).run)   \ntime_rk = time_func(HHSimulationClassicalRungeKutta(hh_model, time_period, dt, I_ext).run)\ntime_odeint = time_func(HHSimulationOdeint(hh_model, time_period, dt, I_ext).run)\n\nprint(f\"Simulation Parameters: \\n\\ttime_period: {time_period} ms \\n\\tdt: {dt} ms\")\nprint(f\"Euler: {time_euler} seconds\")\nprint(f\"Runge-Kutta: {time_rk} seconds\")\nprint(f\"odeint: {time_odeint} seconds\")",
      "metadata": {
        "trusted": true
      },
      "outputs": [],
      "execution_count": null
    },
    {
      "cell_type": "markdown",
      "source": "Bei einer Berechnung über 30 ms in Schrittweiten von dt = 0,01 ms dauert das Runge-Kutta-Verfahren mit Abstand am längsten. Das Eulerverfahren ist deutlich schneller und odeint fast vier Mal so schnell wie die von uns implementierte Euler-Methode.\nHier kann man ein wenig mit den Schrittweiten spielen und merkt, dass ab einer bestimmten Schrittweite die Berechnung von Runge-Kutta schneller wird als odeint, was allerdings keine Rolle mehr spielen wird, denn die folgenden Ergebnisse werden zeigen, dass die Berechnung von Runge-Kutta schnell sehr ungenau wird im Vergleich zu odeint.",
      "metadata": {}
    },
    {
      "cell_type": "markdown",
      "source": "Da die Graphen aber auf den ersten Blick alle noch sehr ähnlich zu sein scheinen und sich bisher nur in der Zeit zum Ausführen der Methoden zu unterscheiden scheinen, soll nun Vergleich der Performance der Lösungen der Gewöhnlichen Differentialgleichungen mit dem Euler-Verfahren und Runge-Kutta mit der Methode odeint dargestellt werden. Hierfür wird in den Schrittweiten variiert und die Abweichung von Euler und Runge-Kutte von den Ergebnissen mit odeint graphisch dargestellt.",
      "metadata": {}
    },
    {
      "cell_type": "code",
      "source": "\n# plot maximum difference against dt when using Runge-Kutta\ndt_list = np.arange(0.001, 0.1, 0.001)\ntime_period = 30\nerrors_rk = np.zeros(len(dt_list))\nerrors_euler = np.zeros(len(dt_list))\n\n# we will handle FloatingPointErrors from overflow and underflow\nnp.seterr(over=\"raise\", under=\"raise\")\n\nfor i, dt in enumerate(dt_list):\n    _, U_odeint, _, _, _ = HHSimulationOdeint(hh_model, time_period, dt, I_ext).run()\n\n    try: \n        _, U_euler, _, _, _ = HHSimulationEuler(hh_model, time_period, dt, I_ext).run()\n        max_difference_euler = max(np.abs(U_euler - U_odeint))\n        errors_euler[i] = max_difference_euler\n    except FloatingPointError as err:\n        print(f\"{err} with Euler at {dt=} ms\")\n        errors_euler[i] = np.finfo(np.float32).max # if there is an underflow or overflow we set a large value as error\n    \n    try:\n        _, U_rk, _, _, _ = HHSimulationClassicalRungeKutta(hh_model, time_period, dt, I_ext).run()\n        max_difference_rk = max(np.abs(U_rk - U_odeint))\n        errors_rk[i] = max_difference_rk\n    except FloatingPointError as err:\n        print(f\"{err} with Runge-Kutta at {dt=} ms\")\n        errors_rk[i] = np.finfo(np.float32).max\n\nplt.plot(dt_list, errors_rk, label=\"Runge-Kutta\")\nplt.plot(dt_list, errors_euler, label=\"Euler\")\n\nplt.title(\"Maximale Abweichung des Euler und Runge-Kutta Verfahrens \\n von Odeint bei verschiedenen Zeitschritten dt\")\nplt.xlabel(\"dt (ms)\")\nplt.ylabel(\"Maximale Abweichung in U (mV)\")\nax = plt.gca()\nax.set_ylim(0, 100) # set y-axis limit because the large errors make the plot unreadable otherwise\nplt.legend()\nplt.tight_layout()\nplt.show()\n\nprint(f\"smallest dt value where error with Euler is greater than 5: {dt_list[np.where(errors_euler > 5)[0][0]]}\")\nprint(f\"smallest dt value where error with Runge-Kutta is greater than 5: {dt_list[np.where(errors_rk > 5)[0][0]]}\")",
      "metadata": {
        "trusted": true
      },
      "outputs": [],
      "execution_count": null
    },
    {
      "cell_type": "markdown",
      "source": "Es ist zu erkennen, dass beim Euler-Verfahren bereits bei Schrittweiten von 0.009 ms die Abweichung von der Lösung mit odeint größer als 5 mV ist und dann weiter stark anwächst. Die Schrittweite bei der das Runge-Kutta-Verfahren auf eine Abweichung von 5 mV kommt, ist mit 0,085 ms fast zehn Mal so groß. Bei Schrittweiten von 0,085 ms ist Odeint aber immernoch mehr als doppelt so schnell wie die Runge-Kutta-Methode. Daher wird Odeint von uns als optimale Methode zur Lösung von GDG in den Aufgaben 3) und 4) verwendet. \nDie weiteren Resultate dieser Aufgabe sollen aber auf einem von uns geschriebenen Solver basieren. Auf Grund der Genauigkeit wird sich für Runge-Kutta entschieden.",
      "metadata": {}
    },
    {
      "cell_type": "markdown",
      "source": "2.c) Der Strom, der bisher als fix -5 mV angenommen wurde, wird jetzt von -5 bis 15 mV in 5 mV-Schritten variiert und der Verlauf des Membranpotentials dargestellt.",
      "metadata": {}
    },
    {
      "cell_type": "code",
      "source": "# Visualising U for different constant external currents\n\nI_0_list = np.arange(-5, 15.1, 5)\n\nfor I_0 in I_0_list:\n    t, U, _, _, _ = HHSimulationClassicalRungeKutta(hh_model, time=50, dt=0.01, I_ext= lambda t: I_0).run()\n    plt.plot(t, U, label=f\"$I_0$ = {I_0} mV\")\n\nplt.title(\"Spannung U in Abhängigkeit der Zeit für verschiedene konstante externe Ströme\")\nplt.ylabel(\"Membranpotential (mV)\")\nplt.xlabel(\"Zeit (ms)\")\nplt.legend(loc = \"upper right\")\nplt.tight_layout()\nplt.show()",
      "metadata": {
        "trusted": true
      },
      "outputs": [],
      "execution_count": null
    },
    {
      "cell_type": "markdown",
      "source": "\n- $I_0 = -5nA$:   \nDas Potential sinkt auf einen niedrigeren Wert und bleibt dort, es gibt keinen Ausschlag, aufgrund des negativen Stroms wird ein niedrigerer Gleichgewichtszustand angenommen\n- $I_0 =  0nA$:   \nDie Spannung bleibt konstant bei -65 mV , da wir bereits im Gleichgewichtszustand der Spannung anfangen\n- $I_0 =  5nA$:   \nEs gibt einen einzigen Ausschlag, danach pendelt sich die Spannung ein und ein höherer Gleichgewichtszustand wird angenommen\n- $I_0 = 10nA$:   \nEs entstehen periodische Ausschläge im Gegensatz zu 5nA\n- $I_0 = 15nA$:   \nPeriodische Ausschläge mit niedrigerer Refraktärzeit als bei 10 nA ",
      "metadata": {}
    },
    {
      "cell_type": "markdown",
      "source": "2.d) Es wird das Runge-Kutta erneut ausgeführt. Diesmal aber nicht mit einem konstanten Strom, sondern mit einem Rechteckimpuls von 50 nA zwischen 10 und 11 ms. Der Strom wird sonst weiterhin als -5 nA angenommen.",
      "metadata": {}
    },
    {
      "cell_type": "code",
      "source": "I_0 = -5\nI_pulse = 50\n\n\ndef I_ext_pulse(t):\n    return I_pulse if 10 < t < 11 else I_0\n\nrk_sim_with_pulse = HHSimulationClassicalRungeKutta(hh_model, time=50, dt=0.01, I_ext=I_ext_pulse)\nrk_sim_with_pulse.run()\nrk_sim_with_pulse.plot()",
      "metadata": {
        "trusted": true
      },
      "outputs": [],
      "execution_count": null
    },
    {
      "cell_type": "markdown",
      "source": "Die Gatingvariablen bestimmen die Dynamik der Spannung und die Aktivierung der Ionenkanäle:\n- m: Ein hoher m-Wert korreliert mit einem Spannungsausschlag. m kehrt schneller als n und h wieder zurück zum Gleichgewichtszustand.\n- n: Ein hoher n-Wert zeigt die Aktivierung des Kalium Kanals.\n- h: Ein hoher h-Wert zeigt die Bereitschaft des Kanals aktiviert zu werden. Nach der Aktivierung ist h niedrig und muss erst während der Refraktärzeit wieder ansteigen, bis es zu einer erneuten Aktivierung kommen kann.",
      "metadata": {}
    },
    {
      "cell_type": "code",
      "source": "",
      "metadata": {
        "trusted": true
      },
      "outputs": [],
      "execution_count": null
    },
    {
      "cell_type": "code",
      "source": "",
      "metadata": {
        "trusted": true
      },
      "outputs": [],
      "execution_count": null
    }
  ]
}